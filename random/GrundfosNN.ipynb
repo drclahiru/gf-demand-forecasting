{
 "cells": [
  {
   "cell_type": "code",
   "execution_count": 1,
   "id": "3218f0ed-7f40-45df-b019-2d8d285796b6",
   "metadata": {},
   "outputs": [],
   "source": [
    "import pandas as pd\n",
    "import numpy as np\n",
    "import matplotlib.pyplot as plt"
   ]
  },
  {
   "cell_type": "code",
   "execution_count": 2,
   "id": "b63fe915-6ed6-4ac4-9a6c-893270d51cbf",
   "metadata": {},
   "outputs": [],
   "source": [
    "df = pd.read_csv('Grundfos/ALPHS_FC_Prepared_15_mth.csv')"
   ]
  },
  {
   "cell_type": "code",
   "execution_count": 3,
   "id": "82df2584-f1de-465b-b8cd-0573ce9fd548",
   "metadata": {},
   "outputs": [],
   "source": [
    "MG = np.array(df.values)[2:, 1:].astype(np.float32)\n",
    "PG = np.sum(MG, axis=0)"
   ]
  },
  {
   "cell_type": "code",
   "execution_count": 4,
   "id": "88df257b-da2a-4063-8f0b-f4797ab3e0d1",
   "metadata": {},
   "outputs": [],
   "source": [
    "X_train, y_train = MG[:, :11], PG[11]\n",
    "scale  = PG.max()\n",
    "\n",
    "X_train = X_train / scale\n",
    "y_train = y_train / scale\n",
    "\n",
    "X_train = [ x[None,...,None] for x in X_train]\n",
    "y_train = np.array(y_train).reshape((1,1))"
   ]
  },
  {
   "cell_type": "code",
   "execution_count": 21,
   "id": "acecf47a-15c9-4d9c-b9f4-3457961d0df3",
   "metadata": {},
   "outputs": [
    {
     "data": {
      "text/plain": [
       "array([[0.85273093]], dtype=float32)"
      ]
     },
     "execution_count": 21,
     "metadata": {},
     "output_type": "execute_result"
    }
   ],
   "source": [
    "y_train"
   ]
  },
  {
   "cell_type": "code",
   "execution_count": 20,
   "id": "7733f4cd-8145-4403-b95e-210bd7a20f51",
   "metadata": {},
   "outputs": [],
   "source": [
    "# MODEL"
   ]
  },
  {
   "cell_type": "code",
   "execution_count": 6,
   "id": "8af157d4-96b3-4e08-b27b-9217fc95964c",
   "metadata": {},
   "outputs": [],
   "source": [
    "import tensorflow as tf"
   ]
  },
  {
   "cell_type": "code",
   "execution_count": 22,
   "id": "9b4d325d-5550-4fcd-959e-9a980cb0ea9e",
   "metadata": {},
   "outputs": [],
   "source": [
    "inputs = []\n",
    "for i in range(len(X_train)):\n",
    "    in_ = tf.keras.layers.Input(shape=(X_train[0].shape[1], 1))\n",
    "    inputs.append(in_)\n",
    "\n",
    "lstms = []\n",
    "for in_ in inputs:\n",
    "    x = tf.keras.layers.LSTM(8)(in_)\n",
    "    x = tf.keras.layers.Dense(1)(x)\n",
    "    lstms.append(x)\n",
    "\n",
    "x = tf.keras.layers.Add()(lstms)\n",
    "model_all_outputs = tf.keras.models.Model(inputs,lstms)\n",
    "model = tf.keras.models.Model(inputs, x)\n",
    "\n"
   ]
  },
  {
   "cell_type": "code",
   "execution_count": 43,
   "id": "7dbfafab-3b1f-42e2-a2b2-22f5984de7ef",
   "metadata": {},
   "outputs": [],
   "source": [
    "model.compile(loss='mse', optimizer='adam')"
   ]
  },
  {
   "cell_type": "code",
   "execution_count": 35,
   "id": "fe8d754d-a3e0-46ae-9b40-309ca5c84ba3",
   "metadata": {},
   "outputs": [
    {
     "name": "stdout",
     "output_type": "stream",
     "text": [
      "Epoch 1/50\n",
      "1/1 [==============================] - 7s 7s/step - loss: 0.4743\n",
      "Epoch 2/50\n",
      "1/1 [==============================] - 0s 8ms/step - loss: 0.4368\n",
      "Epoch 3/50\n",
      "1/1 [==============================] - 0s 9ms/step - loss: 0.3989\n",
      "Epoch 4/50\n",
      "1/1 [==============================] - 0s 11ms/step - loss: 0.3606\n",
      "Epoch 5/50\n",
      "1/1 [==============================] - 0s 10ms/step - loss: 0.3220\n",
      "Epoch 6/50\n",
      "1/1 [==============================] - 0s 8ms/step - loss: 0.2830\n",
      "Epoch 7/50\n",
      "1/1 [==============================] - 0s 10ms/step - loss: 0.2436\n",
      "Epoch 8/50\n",
      "1/1 [==============================] - 0s 8ms/step - loss: 0.2037\n",
      "Epoch 9/50\n",
      "1/1 [==============================] - 0s 12ms/step - loss: 0.1633\n",
      "Epoch 10/50\n",
      "1/1 [==============================] - 0s 8ms/step - loss: 0.1223\n",
      "Epoch 11/50\n",
      "1/1 [==============================] - 0s 12ms/step - loss: 0.0807\n",
      "Epoch 12/50\n",
      "1/1 [==============================] - 0s 8ms/step - loss: 0.0385\n",
      "Epoch 13/50\n",
      "1/1 [==============================] - 0s 10ms/step - loss: 0.0045\n",
      "Epoch 14/50\n",
      "1/1 [==============================] - 0s 8ms/step - loss: 0.0354\n",
      "Epoch 15/50\n",
      "1/1 [==============================] - 0s 10ms/step - loss: 0.0561\n",
      "Epoch 16/50\n",
      "1/1 [==============================] - 0s 7ms/step - loss: 0.0680\n",
      "Epoch 17/50\n",
      "1/1 [==============================] - 0s 10ms/step - loss: 0.0727\n",
      "Epoch 18/50\n",
      "1/1 [==============================] - 0s 8ms/step - loss: 0.0711\n",
      "Epoch 19/50\n",
      "1/1 [==============================] - 0s 9ms/step - loss: 0.0642\n",
      "Epoch 20/50\n",
      "1/1 [==============================] - 0s 9ms/step - loss: 0.0530\n",
      "Epoch 21/50\n",
      "1/1 [==============================] - 0s 8ms/step - loss: 0.0381\n",
      "Epoch 22/50\n",
      "1/1 [==============================] - 0s 10ms/step - loss: 0.0200\n",
      "Epoch 23/50\n",
      "1/1 [==============================] - 0s 8ms/step - loss: 5.5581e-04\n",
      "Epoch 24/50\n",
      "1/1 [==============================] - 0s 10ms/step - loss: 0.0140\n",
      "Epoch 25/50\n",
      "1/1 [==============================] - 0s 9ms/step - loss: 0.0215\n",
      "Epoch 26/50\n",
      "1/1 [==============================] - 0s 9ms/step - loss: 0.0236\n",
      "Epoch 27/50\n",
      "1/1 [==============================] - 0s 9ms/step - loss: 0.0210\n",
      "Epoch 28/50\n",
      "1/1 [==============================] - 0s 10ms/step - loss: 0.0144\n",
      "Epoch 29/50\n",
      "1/1 [==============================] - 0s 8ms/step - loss: 0.0041\n",
      "Epoch 30/50\n",
      "1/1 [==============================] - 0s 10ms/step - loss: 0.0096\n",
      "Epoch 31/50\n",
      "1/1 [==============================] - 0s 8ms/step - loss: 0.0175\n",
      "Epoch 32/50\n",
      "1/1 [==============================] - 0s 10ms/step - loss: 0.0201\n",
      "Epoch 33/50\n",
      "1/1 [==============================] - 0s 8ms/step - loss: 0.0181\n",
      "Epoch 34/50\n",
      "1/1 [==============================] - 0s 6ms/step - loss: 0.0120\n",
      "Epoch 35/50\n",
      "1/1 [==============================] - 0s 8ms/step - loss: 0.0022\n",
      "Epoch 36/50\n",
      "1/1 [==============================] - 0s 9ms/step - loss: 0.0107\n",
      "Epoch 37/50\n",
      "1/1 [==============================] - 0s 10ms/step - loss: 0.0181\n",
      "Epoch 38/50\n",
      "1/1 [==============================] - 0s 9ms/step - loss: 0.0205\n",
      "Epoch 39/50\n",
      "1/1 [==============================] - 0s 9ms/step - loss: 0.0186\n",
      "Epoch 40/50\n",
      "1/1 [==============================] - 0s 8ms/step - loss: 0.0127\n",
      "Epoch 41/50\n",
      "1/1 [==============================] - 0s 10ms/step - loss: 0.0033\n",
      "Epoch 42/50\n",
      "1/1 [==============================] - 0s 8ms/step - loss: 0.0094\n",
      "Epoch 43/50\n",
      "1/1 [==============================] - 0s 9ms/step - loss: 0.0166\n",
      "Epoch 44/50\n",
      "1/1 [==============================] - 0s 7ms/step - loss: 0.0189\n",
      "Epoch 45/50\n",
      "1/1 [==============================] - 0s 9ms/step - loss: 0.0168\n",
      "Epoch 46/50\n",
      "1/1 [==============================] - 0s 7ms/step - loss: 0.0107\n",
      "Epoch 47/50\n",
      "1/1 [==============================] - 0s 10ms/step - loss: 0.0011\n",
      "Epoch 48/50\n",
      "1/1 [==============================] - 0s 7ms/step - loss: 0.0117\n",
      "Epoch 49/50\n",
      "1/1 [==============================] - 0s 9ms/step - loss: 0.0190\n",
      "Epoch 50/50\n",
      "1/1 [==============================] - 0s 9ms/step - loss: 0.0215\n"
     ]
    },
    {
     "data": {
      "text/plain": [
       "<tensorflow.python.keras.callbacks.History at 0x7f95f6930280>"
      ]
     },
     "execution_count": 35,
     "metadata": {},
     "output_type": "execute_result"
    }
   ],
   "source": [
    "# model.fit(X_train, y_train, epochs=50)"
   ]
  },
  {
   "cell_type": "code",
   "execution_count": null,
   "id": "2a897a05-3bac-45c4-abc5-101a84eee803",
   "metadata": {},
   "outputs": [],
   "source": []
  },
  {
   "cell_type": "code",
   "execution_count": 26,
   "id": "bdda5492-942f-4a9c-8d90-dd24bd9918f9",
   "metadata": {},
   "outputs": [
    {
     "name": "stdout",
     "output_type": "stream",
     "text": [
      "(7, 11)\n",
      "(7, 11)\n"
     ]
    }
   ],
   "source": [
    "X_pred = MG[:, 1:12] / scale\n",
    "forecast = []\n",
    "for i in range(3):\n",
    "    try:\n",
    "        XP = np.hstack((XP[:, 1:], forecast[-1][:,None]))\n",
    "        print(XP.shape)\n",
    "    except:\n",
    "        XP = X_pred.copy()\n",
    "    X_pred_lst = [ x[None,...,None] for x in XP]\n",
    "    y_pred = model_all_outputs.predict(X_pred_lst)\n",
    "    y_pred = np.array(y_pred).ravel()\n",
    "    forecast.append(y_pred)\n",
    "forecast = np.array(forecast).T"
   ]
  },
  {
   "cell_type": "code",
   "execution_count": 36,
   "id": "50728699-6ec9-455a-9ee8-2c2d00b8f6a0",
   "metadata": {},
   "outputs": [
    {
     "data": {
      "text/plain": [
       "array([8045.5044, 7439.7124, 7002.365 ], dtype=float32)"
      ]
     },
     "execution_count": 36,
     "metadata": {},
     "output_type": "execute_result"
    }
   ],
   "source": [
    "np.array(forecast)[0]*scale"
   ]
  },
  {
   "cell_type": "code",
   "execution_count": 37,
   "id": "ee9d0343-bb15-4b45-85ea-29b9fc1537d4",
   "metadata": {},
   "outputs": [
    {
     "data": {
      "text/plain": [
       "[<matplotlib.lines.Line2D at 0x7f95de5af940>]"
      ]
     },
     "execution_count": 37,
     "metadata": {},
     "output_type": "execute_result"
    },
    {
     "data": {
      "image/png": "[encoded data removed]",
      "text/plain": [
       "<Figure size 432x288 with 1 Axes>"
      ]
     },
     "metadata": {
      "needs_background": "light"
     },
     "output_type": "display_data"
    }
   ],
   "source": [
    "plt.plot(MG[5], 'o')\n",
    "plt.plot(np.arange(12,15),np.array(forecast)[5]*scale, 'o')"
   ]
  },
  {
   "cell_type": "code",
   "execution_count": 42,
   "id": "11de2b21-ac56-43e4-a8c6-0f0cb419d5e6",
   "metadata": {},
   "outputs": [
    {
     "data": {
      "text/plain": [
       "array([0.37632287, 0.38339883, 0.38722032], dtype=float32)"
      ]
     },
     "execution_count": 42,
     "metadata": {},
     "output_type": "execute_result"
    }
   ],
   "source": [
    "np.array(forecast).sum(axis=0)"
   ]
  },
  {
   "cell_type": "code",
   "execution_count": 41,
   "id": "27660ba7-f784-4e4c-b0e5-d017756d6753",
   "metadata": {},
   "outputs": [
    {
     "data": {
      "text/plain": [
       "[<matplotlib.lines.Line2D at 0x7f95e4fe2820>]"
      ]
     },
     "execution_count": 41,
     "metadata": {},
     "output_type": "execute_result"
    },
    {
     "data": {
      "image/png": "[encoded data removed]",
      "text/plain": [
       "<Figure size 432x288 with 1 Axes>"
      ]
     },
     "metadata": {
      "needs_background": "light"
     },
     "output_type": "display_data"
    }
   ],
   "source": [
    "plt.plot(PG, 'o')\n",
    "plt.plot(np.arange(12,15),np.array(forecast).sum(axis=0)*scale)"
   ]
  },
  {
   "cell_type": "code",
   "execution_count": 39,
   "id": "b7469fb0-8314-4810-8a68-3e8d995cd9d7",
   "metadata": {},
   "outputs": [
    {
     "data": {
      "text/plain": [
       "array([51909.223, 52885.27 , 53412.4  ], dtype=float32)"
      ]
     },
     "execution_count": 39,
     "metadata": {},
     "output_type": "execute_result"
    }
   ],
   "source": []
  },
  {
   "cell_type": "code",
   "execution_count": null,
   "id": "0eeb27e3-ba88-4acf-8faf-fc075d4f737d",
   "metadata": {},
   "outputs": [],
   "source": [
    "\n",
    "\n",
    "# for i in range(3):\n",
    "#     forecast[-1]"
   ]
  },
  {
   "cell_type": "code",
   "execution_count": null,
   "id": "f70a941b-e874-4d74-a5c0-cd4f7287b431",
   "metadata": {},
   "outputs": [],
   "source": [
    "i = 1"
   ]
  },
  {
   "cell_type": "code",
   "execution_count": null,
   "id": "47fb0725-9c97-48fa-8852-cfe73b0fff82",
   "metadata": {},
   "outputs": [],
   "source": []
  },
  {
   "cell_type": "code",
   "execution_count": null,
   "id": "a764c028-953d-4280-9066-f86b3b7e33cc",
   "metadata": {},
   "outputs": [],
   "source": [
    "forecast[-1].shape"
   ]
  },
  {
   "cell_type": "code",
   "execution_count": null,
   "id": "e5362197-94ad-4655-bf81-094cb418b12d",
   "metadata": {},
   "outputs": [],
   "source": []
  },
  {
   "cell_type": "code",
   "execution_count": null,
   "id": "3c6a3ed5-59e7-470e-afaa-fbe516abe849",
   "metadata": {},
   "outputs": [],
   "source": [
    "model.predict(X_train).shape"
   ]
  },
  {
   "cell_type": "code",
   "execution_count": null,
   "id": "99fa35b2-f7ee-4fe9-a036-256b78e1ec3a",
   "metadata": {},
   "outputs": [],
   "source": []
  },
  {
   "cell_type": "code",
   "execution_count": null,
   "id": "ca2e30b2-ea06-49a4-a000-54d00e0b7281",
   "metadata": {},
   "outputs": [],
   "source": []
  },
  {
   "cell_type": "code",
   "execution_count": null,
   "id": "59aa6897-29ae-43be-abc4-9f8707fb792f",
   "metadata": {},
   "outputs": [],
   "source": []
  },
  {
   "cell_type": "code",
   "execution_count": null,
   "id": "6c4b04d7-1c59-487d-8db8-e05ab2f845e2",
   "metadata": {},
   "outputs": [],
   "source": [
    "(11,1) -> LSTM -> (8) -> 1"
   ]
  },
  {
   "cell_type": "code",
   "execution_count": null,
   "id": "aec40bc4-afa5-4595-ae98-ed30d01e888d",
   "metadata": {},
   "outputs": [],
   "source": []
  },
  {
   "cell_type": "code",
   "execution_count": null,
   "id": "8702eee2-ea8f-4dc2-aa19-0b9ec7bdb464",
   "metadata": {},
   "outputs": [],
   "source": [
    "scale"
   ]
  },
  {
   "cell_type": "code",
   "execution_count": null,
   "id": "5b22e0c0-539e-4b80-8bdb-bbeee306fd67",
   "metadata": {},
   "outputs": [],
   "source": []
  },
  {
   "cell_type": "code",
   "execution_count": null,
   "id": "efdc914a-4874-44b4-8e9f-0a1c568f91aa",
   "metadata": {},
   "outputs": [],
   "source": [
    "y_train"
   ]
  },
  {
   "cell_type": "code",
   "execution_count": null,
   "id": "f32c4bd5-6f35-481f-b814-2b160f32a2f0",
   "metadata": {},
   "outputs": [],
   "source": []
  },
  {
   "cell_type": "code",
   "execution_count": null,
   "id": "2a12d3a7-db25-4eb4-b56b-33a131db735a",
   "metadata": {},
   "outputs": [],
   "source": []
  },
  {
   "cell_type": "code",
   "execution_count": null,
   "id": "6dfddfb2-c595-4786-b50c-d9e51b318f91",
   "metadata": {},
   "outputs": [],
   "source": [
    "x"
   ]
  },
  {
   "cell_type": "code",
   "execution_count": null,
   "id": "7688707c-d019-4fd4-bcd6-576f0e3962ea",
   "metadata": {},
   "outputs": [],
   "source": []
  }
 ],
 "metadata": {
  "kernelspec": {
   "display_name": "Python (tf2)",
   "language": "python",
   "name": "tf2"
  },
  "language_info": {
   "codemirror_mode": {
    "name": "ipython",
    "version": 3
   },
   "file_extension": ".py",
   "mimetype": "text/x-python",
   "name": "python",
   "nbconvert_exporter": "python",
   "pygments_lexer": "ipython3",
   "version": "3.8.5"
  }
 },
 "nbformat": 4,
 "nbformat_minor": 5
}
